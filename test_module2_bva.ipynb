{
 "cells": [
  {
   "cell_type": "code",
   "execution_count": 9,
   "id": "ca6779ba",
   "metadata": {},
   "outputs": [
    {
     "name": "stdout",
     "output_type": "stream",
     "text": [
      "Test Case 5: Pass\n",
      "Test Case 6: Pass\n"
     ]
    }
   ],
   "source": [
    "from Calculating_Perimeters_and_Areas import calculate_perimeter, calculate_area\n",
    "\n",
    "# Test Case 5 (lower boundary): Side Length = 1 cm (Minimum)\n",
    "input_side_length_5 = 1\n",
    "expected_perimeter_5 = 4.0\n",
    "expected_area_5 = 1.0\n",
    "perimeter_5 = calculate_perimeter(4, input_side_length_5)  # Assuming a square with 4 sides\n",
    "area_5 = calculate_area(4, input_side_length_5)  # Assuming a square with 4 sides\n",
    "print(\"Test Case 5:\", \"Pass\" if (perimeter_5 == expected_perimeter_5 and area_5 == expected_area_5) else \"Fail\")\n",
    "\n",
    "# Test Case 6 (upper boundary): Side Length = 20 cm (Maximum)\n",
    "input_side_length_6 = 20\n",
    "expected_perimeter_6 = 80.0\n",
    "expected_area_6 = 400.0\n",
    "perimeter_6 = calculate_perimeter(4, input_side_length_6)  # Assuming a square with 4 sides\n",
    "area_6 = calculate_area(4, input_side_length_6)  # Assuming a square with 4 sides\n",
    "print(\"Test Case 6:\", \"Pass\" if (perimeter_6 == expected_perimeter_6 and area_6 == expected_area_6) else \"Fail\")\n"
   ]
  },
  {
   "cell_type": "code",
   "execution_count": null,
   "id": "147689e4",
   "metadata": {},
   "outputs": [],
   "source": []
  }
 ],
 "metadata": {
  "kernelspec": {
   "display_name": "Python 3 (ipykernel)",
   "language": "python",
   "name": "python3"
  },
  "language_info": {
   "codemirror_mode": {
    "name": "ipython",
    "version": 3
   },
   "file_extension": ".py",
   "mimetype": "text/x-python",
   "name": "python",
   "nbconvert_exporter": "python",
   "pygments_lexer": "ipython3",
   "version": "3.10.9"
  }
 },
 "nbformat": 4,
 "nbformat_minor": 5
}
