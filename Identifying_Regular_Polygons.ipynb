{
 "cells": [
  {
   "cell_type": "code",
   "execution_count": 1,
   "id": "719a3107",
   "metadata": {},
   "outputs": [],
   "source": [
    "import math\n",
    "from PIL import Image\n",
    "import os"
   ]
  },
  {
   "cell_type": "markdown",
   "id": "32413cb2",
   "metadata": {},
   "source": [
    "### Scenario A: Identifying Regular Polygons"
   ]
  },
  {
   "cell_type": "code",
   "execution_count": 3,
   "id": "c8fff355",
   "metadata": {},
   "outputs": [
    {
     "name": "stdout",
     "output_type": "stream",
     "text": [
      "Enter the number of sides: 1\n",
      "The shape of a 1-sided polygon is: Number is too small\n",
      "Do you want to display an image? (yes/no): yes\n",
      "Number is too small\n"
     ]
    }
   ],
   "source": [
    "# Define the known regular polygons\n",
    "regular_polygons = {\n",
    "    3: \"Triangle\",\n",
    "    4: \"Square\",\n",
    "    5: \"Pentagon\",\n",
    "    6: \"Hexagon\",\n",
    "    7: \"Heptagon\"\n",
    "}\n",
    "\n",
    "# Path to the \"ISEimages\" folder (change this to your actual path)\n",
    "image_folder = \"C:/Users/Teacher/Downloads/Assignment1/ISEimages\"\n",
    "\n",
    "# Scenario A: Finding the shape of a regular polygon\n",
    "def find_polygon_shape(sides):\n",
    "    if sides > 7:\n",
    "        return \"Number is too big\"\n",
    "    elif sides == 0 or sides == 1 or sides == 2:\n",
    "        return \"Number is too small\"\n",
    "    elif sides < 0:\n",
    "        return \"Negative number of sides is not valid\"\n",
    "    elif sides in regular_polygons:\n",
    "        return regular_polygons[sides]\n",
    "    else:\n",
    "        return \"Unknown\"\n",
    "\n",
    "# Display an image of a regular polygon from the \"ISEimages\" folder\n",
    "def display_polygon_image(polygon_name):\n",
    "    if polygon_name == \"Number is too big\" or polygon_name == \"Number is too small\" or polygon_name == \"Negative number of sides is not valid\":\n",
    "        print(polygon_name)\n",
    "    else:\n",
    "        try:\n",
    "            image_path = f\"{image_folder}/{polygon_name}.png\"\n",
    "            img = Image.open(image_path)\n",
    "            img.show()\n",
    "        except FileNotFoundError:\n",
    "            print(f\"Image for {polygon_name} not found.\")\n",
    "\n",
    "# Main function\n",
    "def main():\n",
    "    # Input: Number of sides (change this to your desired input method)\n",
    "    num_sides = int(input(\"Enter the number of sides: \"))\n",
    "\n",
    "    # Scenario A: Finding the shape of a regular polygon\n",
    "    polygon_name = find_polygon_shape(num_sides)\n",
    "    if polygon_name != \"Unknown\":\n",
    "        print(f\"The shape of a {num_sides}-sided polygon is: {polygon_name}\")\n",
    "        display_image = input(\"Do you want to display an image? (yes/no): \")\n",
    "        if display_image.lower() == \"yes\":\n",
    "            display_polygon_image(polygon_name)\n",
    "    else:\n",
    "        print(\"Invalid number of sides. Please enter a valid number.\")\n",
    "\n",
    "if __name__ == \"__main__\":\n",
    "    main()\n"
   ]
  },
  {
   "cell_type": "code",
   "execution_count": null,
   "id": "76473617",
   "metadata": {},
   "outputs": [],
   "source": []
  }
 ],
 "metadata": {
  "kernelspec": {
   "display_name": "Python 3 (ipykernel)",
   "language": "python",
   "name": "python3"
  },
  "language_info": {
   "codemirror_mode": {
    "name": "ipython",
    "version": 3
   },
   "file_extension": ".py",
   "mimetype": "text/x-python",
   "name": "python",
   "nbconvert_exporter": "python",
   "pygments_lexer": "ipython3",
   "version": "3.10.9"
  }
 },
 "nbformat": 4,
 "nbformat_minor": 5
}
