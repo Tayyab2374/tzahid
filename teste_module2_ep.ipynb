{
 "cells": [
  {
   "cell_type": "code",
   "execution_count": 12,
   "id": "5cd521b3",
   "metadata": {},
   "outputs": [
    {
     "name": "stdout",
     "output_type": "stream",
     "text": [
      "Test Case 1: Fail\n",
      "Test Case 2: Fail\n",
      "Test Case 3: Fail\n",
      "Test Case 4: Fail\n"
     ]
    }
   ],
   "source": [
    "from Calculating_Perimeters_and_Areas import calculate_perimeter, calculate_area\n",
    "\n",
    "# Test Case 1: Valid side length (5 cm)\n",
    "input_side_length_1 = 5\n",
    "expected_perimeter_1 = 20.0\n",
    "expected_area_1 = 10.0\n",
    "perimeter_1 = calculate_perimeter(4, input_side_length_1)  # Assuming a square with 4 sides\n",
    "area_1 = calculate_area(4, input_side_length_1)  # Assuming a square with 4 sides\n",
    "print(\"Test Case 1:\", \"Pass\" if (perimeter_1 == expected_perimeter_1 and area_1 == expected_area_1) else \"Fail\")\n",
    "\n",
    "# Test Case 2: Valid side length (15 cm)\n",
    "input_side_length_2 = 15\n",
    "expected_perimeter_2 = 60.0\n",
    "expected_area_2 = 112.5\n",
    "perimeter_2 = calculate_perimeter(4, input_side_length_2)  # Assuming a square with 4 sides\n",
    "area_2 = calculate_area(4, input_side_length_2)  # Assuming a square with 4 sides\n",
    "print(\"Test Case 2:\", \"Pass\" if (perimeter_2 == expected_perimeter_2 and area_2 == expected_area_2) else \"Fail\")\n",
    "\n",
    "# Test Case 3: Invalid side length (-1 cm)\n",
    "input_side_length_3 = -1\n",
    "expected_perimeter_3 = None  # Since it's an invalid side length\n",
    "expected_area_3 = None  # Since it's an invalid side length\n",
    "perimeter_3 = calculate_perimeter(4, input_side_length_3)  # Assuming a square with 4 sides\n",
    "area_3 = calculate_area(4, input_side_length_3)  # Assuming a square with 4 sides\n",
    "print(\"Test Case 3:\", \"Pass\" if (perimeter_3 == expected_perimeter_3 and area_3 == expected_area_3) else \"Fail\")\n",
    "\n",
    "# Test Case 4: Invalid side length (25 cm)\n",
    "input_side_length_4 = 25\n",
    "expected_perimeter_4 = None  # Since it's an invalid side length\n",
    "expected_area_4 = None  # Since it's an invalid side length\n",
    "perimeter_4 = calculate_perimeter(4, input_side_length_4)  # Assuming a square with 4 sides\n",
    "area_4 = calculate_area(4, input_side_length_4)  # Assuming a square with 4 sides\n",
    "print(\"Test Case 4:\", \"Pass\" if (perimeter_4 == expected_perimeter_4 and area_4 == expected_area_4) else \"Fail\")"
   ]
  },
  {
   "cell_type": "code",
   "execution_count": null,
   "id": "af8be260",
   "metadata": {},
   "outputs": [],
   "source": []
  }
 ],
 "metadata": {
  "kernelspec": {
   "display_name": "Python 3 (ipykernel)",
   "language": "python",
   "name": "python3"
  },
  "language_info": {
   "codemirror_mode": {
    "name": "ipython",
    "version": 3
   },
   "file_extension": ".py",
   "mimetype": "text/x-python",
   "name": "python",
   "nbconvert_exporter": "python",
   "pygments_lexer": "ipython3",
   "version": "3.10.9"
  }
 },
 "nbformat": 4,
 "nbformat_minor": 5
}
