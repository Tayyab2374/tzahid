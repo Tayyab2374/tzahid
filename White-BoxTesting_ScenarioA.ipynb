{
 "cells": [
  {
   "cell_type": "markdown",
   "id": "b7122bb6",
   "metadata": {},
   "source": [
    "### White-Box Testing - Scenario A: Identifying Regular Polygons"
   ]
  },
  {
   "cell_type": "code",
   "execution_count": 12,
   "id": "6a2dbe27",
   "metadata": {},
   "outputs": [
    {
     "name": "stdout",
     "output_type": "stream",
     "text": [
      "Test case 1: Sides=3, Expected=Triangle, Result=Triangle\n",
      "Test case 2: Sides=6, Expected=Hexagon, Result=Hexagon\n",
      "Test case 3: Sides=8, Expected=Unknown, Result=Unknown\n",
      "Test case 4: Sides=5, Expected=Pentagon, Result=Pentagon\n",
      "Test case 5: Sides=4, Expected=Square, Result=Square\n",
      "Test case 6: Sides=-2, Expected=Unknown, Result=Unknown\n"
     ]
    }
   ],
   "source": [
    "from Identifying_Regular_Polygons import *\n",
    "import matplotlib.pyplot as plt\n",
    "import matplotlib.image as mpimg\n",
    "\n",
    "# Function to identify a regular polygon based on the number of sides\n",
    "def test_identify_regular_polygon_min_sides():\n",
    "    result = identify_regular_polygon(3)\n",
    "    expected = \"Triangle\"\n",
    "    assert result == expected\n",
    "    print(f\"Test case 1: Sides=3, Expected={expected}, Result={result}\")\n",
    "\n",
    "# Test case 2: Test a valid input\n",
    "def test_identify_regular_polygon_valid_input():\n",
    "    result = identify_regular_polygon(6)\n",
    "    expected = \"Hexagon\"\n",
    "    assert result == expected\n",
    "    print(f\"Test case 2: Sides=6, Expected={expected}, Result={result}\")\n",
    "\n",
    "# Test case 3: Test an invalid input\n",
    "def test_identify_regular_polygon_invalid_input():\n",
    "    result = identify_regular_polygon(8)\n",
    "    expected = \"Unknown\"\n",
    "    assert result == expected\n",
    "    print(f\"Test case 3: Sides=8, Expected={expected}, Result={result}\")\n",
    "\n",
    "# Test case 4: Test a valid input\n",
    "def test_identify_regular_polygon_valid_input2():\n",
    "    result = identify_regular_polygon(5)\n",
    "    expected = \"Pentagon\"\n",
    "    assert result == expected\n",
    "    print(f\"Test case 4: Sides=5, Expected={expected}, Result={result}\")\n",
    "\n",
    "# Test case 5: Test a valid input\n",
    "def test_identify_regular_polygon_valid_input3():\n",
    "    result = identify_regular_polygon(4)\n",
    "    expected = \"Square\"\n",
    "    assert result == expected\n",
    "    print(f\"Test case 5: Sides=4, Expected={expected}, Result={result}\")\n",
    "\n",
    "# Test case 6: Test an invalid input\n",
    "def test_identify_regular_polygon_invalid_input2():\n",
    "    result = identify_regular_polygon(-2)\n",
    "    expected = \"Unknown\"\n",
    "    assert result == expected\n",
    "    print(f\"Test case 6: Sides=-2, Expected={expected}, Result={result}\")\n",
    "\n",
    "# Run the test functions\n",
    "test_identify_regular_polygon_min_sides()\n",
    "test_identify_regular_polygon_valid_input()\n",
    "test_identify_regular_polygon_invalid_input()\n",
    "test_identify_regular_polygon_valid_input2()\n",
    "test_identify_regular_polygon_valid_input3()\n",
    "test_identify_regular_polygon_invalid_input2()\n"
   ]
  },
  {
   "cell_type": "code",
   "execution_count": null,
   "id": "394098a3",
   "metadata": {},
   "outputs": [],
   "source": []
  }
 ],
 "metadata": {
  "kernelspec": {
   "display_name": "Python 3 (ipykernel)",
   "language": "python",
   "name": "python3"
  },
  "language_info": {
   "codemirror_mode": {
    "name": "ipython",
    "version": 3
   },
   "file_extension": ".py",
   "mimetype": "text/x-python",
   "name": "python",
   "nbconvert_exporter": "python",
   "pygments_lexer": "ipython3",
   "version": "3.10.9"
  }
 },
 "nbformat": 4,
 "nbformat_minor": 5
}
