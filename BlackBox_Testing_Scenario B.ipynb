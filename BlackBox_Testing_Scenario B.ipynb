{
 "cells": [
  {
   "cell_type": "markdown",
   "id": "eb7f37d9",
   "metadata": {},
   "source": [
    "### Black-Box Testing - Scenario B: Calculating Perimeters and Areas"
   ]
  },
  {
   "cell_type": "code",
   "execution_count": 1,
   "id": "8b3b0cd1",
   "metadata": {},
   "outputs": [],
   "source": [
    "# Function to calculate the perimeter of a regular polygon\n",
    "def calculate_perimeter(sides, shape_name):\n",
    "    # Dictionary with perimeter formulas for different shapes\n",
    "    perimeter_formulas = {\n",
    "        \"Square\": 4 * sides,\n",
    "        \"Triangle\": 3 * sides,\n",
    "        \"Pentagon\": 5 * sides,\n",
    "    }\n",
    "    \n",
    "    if shape_name in perimeter_formulas:\n",
    "        return perimeter_formulas[shape_name]\n",
    "    else:\n",
    "        return \"Unknown shape\"\n",
    "\n",
    "# Function to calculate the area of a regular polygon\n",
    "def calculate_area(sides, shape_name):\n",
    "    # Dictionary with area formulas for different shapes\n",
    "    area_formulas = {\n",
    "        \"Square\": sides**2,\n",
    "        \"Hexagon\": 2.598 * sides**2,  # Approximate value for a regular hexagon\n",
    "    }\n",
    "    \n",
    "    if shape_name in area_formulas:\n",
    "        return round(area_formulas[shape_name], 2)\n",
    "    else:\n",
    "        return \"Unknown shape\"\n",
    "\n",
    "# Test function for calculating perimeters\n",
    "def test_calculate_perimeter():\n",
    "    assert calculate_perimeter(4, \"Square\") == 16.0\n",
    "    assert calculate_perimeter(3, \"Triangle\") == 9.0\n",
    "    assert calculate_perimeter(5, \"Pentagon\") == 25.0\n",
    "    assert calculate_perimeter(6, \"Hexagon\") == \"Unknown shape\"\n",
    "\n",
    "# Test function for calculating areas\n",
    "def test_calculate_area():\n",
    "    assert calculate_area(4, \"Square\") == 16.0\n",
    "    assert round(calculate_area(6, \"Hexagon\"), 2) == 93.53  # Adjusted expected value with rounding\n",
    "    assert calculate_area(5, \"Unknown\") == \"Unknown shape\"\n",
    "\n",
    "# Run the test functions\n",
    "test_calculate_perimeter()\n",
    "test_calculate_area()"
   ]
  },
  {
   "cell_type": "code",
   "execution_count": 2,
   "id": "85faed3c",
   "metadata": {},
   "outputs": [
    {
     "name": "stdout",
     "output_type": "stream",
     "text": [
      "calculate_perimeter tests passed!\n",
      "calculate_area tests passed!\n"
     ]
    }
   ],
   "source": [
    "# Test function for calculating perimeters\n",
    "def test_calculate_perimeter():\n",
    "    assert calculate_perimeter(4, \"Square\") == 16.0\n",
    "    assert calculate_perimeter(3, \"Triangle\") == 9.0\n",
    "    assert calculate_perimeter(5, \"Pentagon\") == 25.0\n",
    "    assert calculate_perimeter(6, \"Hexagon\") == \"Unknown shape\"\n",
    "\n",
    "    # Print success message\n",
    "    print(\"calculate_perimeter tests passed!\")\n",
    "\n",
    "# Test function for calculating areas\n",
    "def test_calculate_area():\n",
    "    assert calculate_area(4, \"Square\") == 16.0\n",
    "    assert round(calculate_area(6, \"Hexagon\"), 2) == 93.53  # Adjusted expected value with rounding\n",
    "    assert calculate_area(5, \"Unknown\") == \"Unknown shape\"\n",
    "\n",
    "    # Print success message\n",
    "    print(\"calculate_area tests passed!\")\n",
    "\n",
    "# Run the test functions\n",
    "test_calculate_perimeter()\n",
    "test_calculate_area()"
   ]
  },
  {
   "cell_type": "code",
   "execution_count": null,
   "id": "e1e65fdc",
   "metadata": {},
   "outputs": [],
   "source": []
  }
 ],
 "metadata": {
  "kernelspec": {
   "display_name": "Python 3 (ipykernel)",
   "language": "python",
   "name": "python3"
  },
  "language_info": {
   "codemirror_mode": {
    "name": "ipython",
    "version": 3
   },
   "file_extension": ".py",
   "mimetype": "text/x-python",
   "name": "python",
   "nbconvert_exporter": "python",
   "pygments_lexer": "ipython3",
   "version": "3.10.9"
  }
 },
 "nbformat": 4,
 "nbformat_minor": 5
}
