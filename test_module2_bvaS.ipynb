{
 "cells": [
  {
   "cell_type": "code",
   "execution_count": 1,
   "id": "c2ea410d",
   "metadata": {},
   "outputs": [
    {
     "name": "stdout",
     "output_type": "stream",
     "text": [
      "Test Case 10: Fail\n",
      "Test Case 11: Fail\n"
     ]
    }
   ],
   "source": [
    "from Calculating_Perimeters_and_Areas import calculate_area\n",
    "\n",
    "# Boundary Value Analysis for Shape Name\n",
    "\n",
    "# Test Case 10 (lower boundary): Empty shape name\n",
    "input_shape_10 = \"\"\n",
    "expected_output_10 = \"Error: Invalid shape\"\n",
    "output_10 = calculate_area(1, 10)  # Assuming an arbitrary valid shape\n",
    "print(\"Test Case 10:\", \"Pass\" if output_10 == expected_output_10 else \"Fail\")\n",
    "\n",
    "# Test Case 11 (upper boundary): Shape name with extra characters\n",
    "input_shape_11 = \"Square (Extra)\"\n",
    "expected_output_11 = \"Error: Invalid shape\"\n",
    "output_11 = calculate_area(4, 5)  # Assuming an arbitrary valid shape\n",
    "print(\"Test Case 11:\", \"Pass\" if output_11 == expected_output_11 else \"Fail\")\n"
   ]
  },
  {
   "cell_type": "code",
   "execution_count": null,
   "id": "4427e10b",
   "metadata": {},
   "outputs": [],
   "source": []
  }
 ],
 "metadata": {
  "kernelspec": {
   "display_name": "Python 3 (ipykernel)",
   "language": "python",
   "name": "python3"
  },
  "language_info": {
   "codemirror_mode": {
    "name": "ipython",
    "version": 3
   },
   "file_extension": ".py",
   "mimetype": "text/x-python",
   "name": "python",
   "nbconvert_exporter": "python",
   "pygments_lexer": "ipython3",
   "version": "3.10.9"
  }
 },
 "nbformat": 4,
 "nbformat_minor": 5
}
