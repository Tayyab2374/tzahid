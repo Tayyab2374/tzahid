{
 "cells": [
  {
   "cell_type": "code",
   "execution_count": 1,
   "id": "9194082d",
   "metadata": {},
   "outputs": [
    {
     "name": "stdout",
     "output_type": "stream",
     "text": [
      "Test Case 7: Fail\n",
      "Test Case 8: Fail\n",
      "Test Case 9: Fail\n"
     ]
    }
   ],
   "source": [
    "from Calculating_Perimeters_and_Areas import calculate_perimeter, calculate_area\n",
    "\n",
    "# Equivalence Partitioning for Shape Name\n",
    "\n",
    "# Test Case 7: Invalid shape name \"Triangle\"\n",
    "input_shape_7 = \"Triangle\"\n",
    "expected_output_7 = \"Error: Invalid shape\"\n",
    "output_7 = calculate_area(3, 5)  # Assuming a triangle with 3 sides\n",
    "print(\"Test Case 7:\", \"Pass\" if output_7 == expected_output_7 else \"Fail\")\n",
    "\n",
    "# Test Case 8: Invalid shape name \"Pentagon\"\n",
    "input_shape_8 = \"Pentagon\"\n",
    "expected_output_8 = \"Error: Invalid shape\"\n",
    "output_8 = calculate_area(5, 5)  # Assuming a pentagon with 5 sides\n",
    "print(\"Test Case 8:\", \"Pass\" if output_8 == expected_output_8 else \"Fail\")\n",
    "\n",
    "# Test Case 9: Invalid shape name \"Circle\"\n",
    "input_shape_9 = \"Circle\"\n",
    "expected_output_9 = \"Error: Invalid shape\"\n",
    "output_9 = calculate_area(0, 10)  # Assuming an invalid shape with 0 sides\n",
    "print(\"Test Case 9:\", \"Pass\" if output_9 == expected_output_9 else \"Fail\")\n"
   ]
  },
  {
   "cell_type": "code",
   "execution_count": null,
   "id": "bfa24100",
   "metadata": {},
   "outputs": [],
   "source": []
  }
 ],
 "metadata": {
  "kernelspec": {
   "display_name": "Python 3 (ipykernel)",
   "language": "python",
   "name": "python3"
  },
  "language_info": {
   "codemirror_mode": {
    "name": "ipython",
    "version": 3
   },
   "file_extension": ".py",
   "mimetype": "text/x-python",
   "name": "python",
   "nbconvert_exporter": "python",
   "pygments_lexer": "ipython3",
   "version": "3.10.9"
  }
 },
 "nbformat": 4,
 "nbformat_minor": 5
}
