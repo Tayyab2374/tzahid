{
 "cells": [
  {
   "cell_type": "code",
   "execution_count": 1,
   "id": "d1188bfb",
   "metadata": {},
   "outputs": [],
   "source": [
    "import math\n",
    "from PIL import Image\n",
    "import os"
   ]
  },
  {
   "cell_type": "markdown",
   "id": "cec9fdaf",
   "metadata": {},
   "source": [
    "### Scenario B: Calculating Perimeters and Areas"
   ]
  },
  {
   "cell_type": "code",
   "execution_count": 12,
   "id": "b4d9c722",
   "metadata": {},
   "outputs": [
    {
     "name": "stdout",
     "output_type": "stream",
     "text": [
      "Enter the length of a side (in centimeters): 1\n",
      "Enter the number of sides or polygon shape name: 8\n",
      "Invalid number of sides or side length.\n"
     ]
    }
   ],
   "source": [
    "# Define the known regular polygons\n",
    "regular_polygons = {\n",
    "    3: \"Triangle\",\n",
    "    4: \"Square\",\n",
    "    5: \"Pentagon\",\n",
    "    6: \"Hexagon\",\n",
    "    7: \"Heptagon\"\n",
    "}\n",
    "\n",
    "# Constants for valid length range and child's hand size range\n",
    "MIN_SIDE_LENGTH = 1\n",
    "MAX_SIDE_LENGTH = 20\n",
    "CHILD_HAND_SIZE_LOWER = 70.5\n",
    "CHILD_HAND_SIZE_UPPER = 90.5\n",
    "\n",
    "# Function to calculate the perimeter of a regular polygon\n",
    "def calculate_perimeter(num_sides, side_length):\n",
    "    if num_sides in regular_polygons:\n",
    "        return num_sides * side_length\n",
    "    else:\n",
    "        return None\n",
    "\n",
    "# Function to calculate the area of a regular polygon\n",
    "def calculate_area(num_sides, side_length):\n",
    "    if num_sides in regular_polygons:\n",
    "        if num_sides == 3:  # Triangle\n",
    "            # Implement the formula for the area of a triangle\n",
    "            return (math.sqrt(3) / 4) * side_length ** 2\n",
    "        elif num_sides == 4:  # Square\n",
    "            # Implement the formula for the area of a square\n",
    "            return side_length ** 2\n",
    "        # Implement the area calculation for other polygons here\n",
    "        else:\n",
    "            apothem = side_length / (2 * math.tan(math.pi / num_sides))\n",
    "            area = (num_sides * side_length * apothem) / 2\n",
    "            return area\n",
    "    else:\n",
    "        return None\n",
    "\n",
    "# Function to compare the calculated area with the given situations\n",
    "def compare_area_with_situations(area):\n",
    "    if area < CHILD_HAND_SIZE_LOWER:\n",
    "        return \"The shape size is smaller than a child's hand size.\"\n",
    "    elif area > CHILD_HAND_SIZE_UPPER:\n",
    "        return \"The shape size is larger than a child's hand size.\"\n",
    "    else:\n",
    "        return \"The shape size is close to a child's hand size.\"\n",
    "\n",
    "# Main function for Scenario B\n",
    "def main_scenario_b():\n",
    "    side_length = float(input(\"Enter the length of a side (in centimeters): \"))\n",
    "    \n",
    "    if side_length < MIN_SIDE_LENGTH or side_length > MAX_SIDE_LENGTH:\n",
    "        print(\"Side length is outside the valid range.\")\n",
    "        return\n",
    "\n",
    "    num_sides_or_shape = input(\"Enter the number of sides or polygon shape name: \")\n",
    "\n",
    "    try:\n",
    "        num_sides = int(num_sides_or_shape)\n",
    "    except ValueError:\n",
    "        num_sides = regular_polygons.get(num_sides_or_shape.title(), None)\n",
    "\n",
    "    if num_sides is not None:\n",
    "        perimeter = calculate_perimeter(num_sides, side_length)\n",
    "        area = calculate_area(num_sides, side_length)\n",
    "\n",
    "        if perimeter is not None and area is not None:\n",
    "            print(f\"Perimeter of the polygon: {perimeter} cm\")\n",
    "            print(f\"Area of the polygon: {area} cm^2\")\n",
    "\n",
    "            area_message = compare_area_with_situations(area)\n",
    "            print(area_message)\n",
    "        else:\n",
    "            print(\"Invalid number of sides or side length.\")\n",
    "    else:\n",
    "        print(\"Invalid number of sides or unknown shape name.\")\n",
    "\n",
    "if __name__ == \"__main__\":\n",
    "    main_scenario_b()\n"
   ]
  },
  {
   "cell_type": "code",
   "execution_count": null,
   "id": "8b19cccb",
   "metadata": {},
   "outputs": [],
   "source": []
  }
 ],
 "metadata": {
  "kernelspec": {
   "display_name": "Python 3 (ipykernel)",
   "language": "python",
   "name": "python3"
  },
  "language_info": {
   "codemirror_mode": {
    "name": "ipython",
    "version": 3
   },
   "file_extension": ".py",
   "mimetype": "text/x-python",
   "name": "python",
   "nbconvert_exporter": "python",
   "pygments_lexer": "ipython3",
   "version": "3.10.9"
  }
 },
 "nbformat": 4,
 "nbformat_minor": 5
}
