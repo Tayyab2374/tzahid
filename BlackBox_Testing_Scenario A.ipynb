{
 "cells": [
  {
   "cell_type": "markdown",
   "id": "9967edc3",
   "metadata": {},
   "source": [
    "### Black-Box Testing - Scenario A: Identifying Regular Polygons"
   ]
  },
  {
   "cell_type": "code",
   "execution_count": 4,
   "id": "db3ffbdd",
   "metadata": {},
   "outputs": [],
   "source": [
    "import math\n",
    "from PIL import Image\n",
    "import os"
   ]
  },
  {
   "cell_type": "code",
   "execution_count": 5,
   "id": "1227b843",
   "metadata": {},
   "outputs": [
    {
     "name": "stdout",
     "output_type": "stream",
     "text": [
      "Enter the number of sides: 3\n",
      "The shape of a 3-sided polygon is: Triangle\n",
      "Do you want to display an image? (yes/no): yes\n"
     ]
    }
   ],
   "source": [
    "# Define the known regular polygons\n",
    "regular_polygons = {\n",
    "    3: \"Triangle\",\n",
    "    4: \"Square\",\n",
    "    5: \"Pentagon\",\n",
    "    6: \"Hexagon\",\n",
    "    7: \"Heptagon\"\n",
    "}\n",
    "\n",
    "# Path to the \"ISEimages\" folder (change this to your actual path)\n",
    "image_folder = \"C:/Users/Teacher/Downloads/Assignment1/ISEimages\"\n",
    "\n",
    "# Scenario A: Finding the shape of a regular polygon\n",
    "def find_polygon_shape(sides):\n",
    "    if sides > 7:\n",
    "        return \"Number is too big\"\n",
    "    elif sides == 0 or sides == 1 or sides == 2:\n",
    "        return \"Number is too small\"\n",
    "    elif sides < 0:\n",
    "        return \"Negative number of sides is not valid\"\n",
    "    elif sides in regular_polygons:\n",
    "        return regular_polygons[sides]\n",
    "    else:\n",
    "        return \"Unknown\"\n",
    "\n",
    "# Display an image of a regular polygon from the \"ISEimages\" folder\n",
    "def display_polygon_image(polygon_name):\n",
    "    if polygon_name == \"Number is too big\" or polygon_name == \"Number is too small\" or polygon_name == \"Negative number of sides is not valid\":\n",
    "        print(polygon_name)\n",
    "    else:\n",
    "        try:\n",
    "            image_path = f\"{image_folder}/{polygon_name}.png\"\n",
    "            img = Image.open(image_path)\n",
    "            img.show()\n",
    "        except FileNotFoundError:\n",
    "            print(f\"Image for {polygon_name} not found.\")\n",
    "\n",
    "# Main function\n",
    "def main():\n",
    "    # Input: Number of sides (change this to your desired input method)\n",
    "    num_sides = int(input(\"Enter the number of sides: \"))\n",
    "\n",
    "    # Scenario A: Finding the shape of a regular polygon\n",
    "    polygon_name = find_polygon_shape(num_sides)\n",
    "    if polygon_name != \"Unknown\":\n",
    "        print(f\"The shape of a {num_sides}-sided polygon is: {polygon_name}\")\n",
    "        display_image = input(\"Do you want to display an image? (yes/no): \")\n",
    "        if display_image.lower() == \"yes\":\n",
    "            display_polygon_image(polygon_name)\n",
    "    else:\n",
    "        print(\"Invalid number of sides. Please enter a valid number.\")\n",
    "\n",
    "if __name__ == \"__main__\":\n",
    "    main()\n"
   ]
  },
  {
   "cell_type": "code",
   "execution_count": 6,
   "id": "05baf893",
   "metadata": {},
   "outputs": [
    {
     "name": "stdout",
     "output_type": "stream",
     "text": [
      "Image for Unknown not found.\n"
     ]
    }
   ],
   "source": [
    "# Define the known regular polygons\n",
    "regular_polygons = {\n",
    "    3: \"Triangle\",\n",
    "    4: \"Square\",\n",
    "    5: \"Pentagon\",\n",
    "    6: \"Hexagon\",\n",
    "    7: \"Heptagon\"\n",
    "}\n",
    "\n",
    "# Function to identify a regular polygon based on the number of sides\n",
    "def identify_regular_polygon(sides):\n",
    "    if sides in regular_polygons:\n",
    "        return regular_polygons[sides]\n",
    "    else:\n",
    "        return \"Unknown\"\n",
    "def test_identify_regular_polygon():\n",
    "    assert identify_regular_polygon(3) == \"Triangle\"\n",
    "    assert identify_regular_polygon(4) == \"Square\"\n",
    "    assert identify_regular_polygon(5) == \"Pentagon\"\n",
    "    assert identify_regular_polygon(6) == \"Hexagon\"\n",
    "    assert identify_regular_polygon(7) == \"Heptagon\"\n",
    "    assert identify_regular_polygon(2) == \"Unknown\"\n",
    "    assert identify_regular_polygon(10) == \"Unknown\"\n",
    "    assert identify_regular_polygon(-5) == \"Unknown\"\n",
    "    assert identify_regular_polygon(0) == \"Unknown\"\n",
    "def test_display_polygon_image():\n",
    "    # For known polygons\n",
    "    assert display_polygon_image(\"Triangle\") is None\n",
    "    assert display_polygon_image(\"Square\") is None\n",
    "    assert display_polygon_image(\"Pentagon\") is None\n",
    "    assert display_polygon_image(\"Hexagon\") is None\n",
    "    assert display_polygon_image(\"Heptagon\") is None\n",
    "\n",
    "    # For an unknown polygon\n",
    "    assert display_polygon_image(\"Unknown\") is None\n",
    "\n",
    "\n",
    "test_identify_regular_polygon()\n",
    "test_display_polygon_image()\n"
   ]
  },
  {
   "cell_type": "code",
   "execution_count": null,
   "id": "b516225e",
   "metadata": {},
   "outputs": [],
   "source": []
  }
 ],
 "metadata": {
  "kernelspec": {
   "display_name": "Python 3 (ipykernel)",
   "language": "python",
   "name": "python3"
  },
  "language_info": {
   "codemirror_mode": {
    "name": "ipython",
    "version": 3
   },
   "file_extension": ".py",
   "mimetype": "text/x-python",
   "name": "python",
   "nbconvert_exporter": "python",
   "pygments_lexer": "ipython3",
   "version": "3.10.9"
  }
 },
 "nbformat": 4,
 "nbformat_minor": 5
}
