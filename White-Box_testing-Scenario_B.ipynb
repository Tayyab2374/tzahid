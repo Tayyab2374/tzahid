{
 "cells": [
  {
   "cell_type": "markdown",
   "id": "1b5f7a07",
   "metadata": {},
   "source": [
    "### White-Box Testing - Scenario B: Calculating Perimeters and Areas"
   ]
  },
  {
   "cell_type": "code",
   "execution_count": 37,
   "id": "79974f7e",
   "metadata": {
    "scrolled": true
   },
   "outputs": [
    {
     "name": "stdout",
     "output_type": "stream",
     "text": [
      "All white-box test cases passed.\n"
     ]
    }
   ],
   "source": [
    "# Import the math module to use math functions\n",
    "import math\n",
    "import unittest\n",
    "from Calculating_Perimeters_and_Areas import *\n",
    "import matplotlib.pyplot as plt\n",
    "import matplotlib.image as mpimg\n",
    "\n",
    "\n",
    "def test_calculate_perimeter_whitebox():\n",
    "    # Test case 1: Valid square with 4 sides\n",
    "    assert calculate_perimeter(4, 4) == 16.0\n",
    "\n",
    "    # Test case 2: Valid triangle with 3 sides\n",
    "    assert calculate_perimeter(3, 5) == 15.0\n",
    "\n",
    "\n",
    "    # Test case 3: Hexagon with 6 sides\n",
    "    assert calculate_perimeter(6, 6) == 36.0\n",
    "\n",
    "\n",
    "def test_calculate_area_whitebox():\n",
    "    # Test case 1: Valid square with 4 sides\n",
    "    assert calculate_area(4, 4) == 16.0\n",
    "\n",
    "    # Test case 2: Valid hexagon with 6 sides\n",
    "    assert round(calculate_area(6, 6), 2) == 93.53  # Approximate value\n",
    "\n",
    "\n",
    "def test_compare_area_with_situations_whitebox():\n",
    "    # Test case 1: Area smaller than a child's hand size\n",
    "    assert compare_area_with_situations(60) == \"The shape size is smaller than a child's hand size.\"\n",
    "\n",
    "    # Test case 2: Area larger than a child's hand size\n",
    "    assert compare_area_with_situations(100) == \"The shape size is larger than a child's hand size.\"\n",
    "\n",
    "    # Test case 3: Area close to a child's hand size\n",
    "    assert compare_area_with_situations(80) == \"The shape size is close to a child's hand size.\"\n",
    "\n",
    "if __name__ == \"__main__\":\n",
    "    # Run the white-box test cases for the \"Calculating Perimeters and Areas\" scenario\n",
    "    test_calculate_perimeter_whitebox()\n",
    "    test_calculate_area_whitebox()\n",
    "    test_compare_area_with_situations_whitebox()\n",
    "    print(\"All white-box test cases passed.\")\n"
   ]
  },
  {
   "cell_type": "code",
   "execution_count": null,
   "id": "226a7ee3",
   "metadata": {},
   "outputs": [],
   "source": []
  }
 ],
 "metadata": {
  "kernelspec": {
   "display_name": "Python 3 (ipykernel)",
   "language": "python",
   "name": "python3"
  },
  "language_info": {
   "codemirror_mode": {
    "name": "ipython",
    "version": 3
   },
   "file_extension": ".py",
   "mimetype": "text/x-python",
   "name": "python",
   "nbconvert_exporter": "python",
   "pygments_lexer": "ipython3",
   "version": "3.10.9"
  }
 },
 "nbformat": 4,
 "nbformat_minor": 5
}
