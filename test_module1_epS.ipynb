{
 "cells": [
  {
   "cell_type": "code",
   "execution_count": 9,
   "id": "bdd4f0f6",
   "metadata": {},
   "outputs": [
    {
     "name": "stdout",
     "output_type": "stream",
     "text": [
      "Test Case 8: Pass\n",
      "Test Case 9: Pass\n"
     ]
    }
   ],
   "source": [
    "from Identifying_Regular_Polygons import find_polygon_shape\n",
    "\n",
    "# Test Case 8: Valid number of sides (3)\n",
    "input_sides_8 = 3\n",
    "expected_output_8 = \"Triangle\"\n",
    "output_8 = find_polygon_shape(input_sides_8)\n",
    "assert output_8 == expected_output_8\n",
    "\n",
    "# Test Case 9: Valid number of sides (5)\n",
    "input_sides_9 = 5\n",
    "expected_output_9 = \"Pentagon\"\n",
    "output_9 = find_polygon_shape(input_sides_9)\n",
    "assert output_9 == expected_output_9\n",
    "\n",
    "# Print test results\n",
    "print(\"Test Case 8:\", \"Pass\" if output_8 == expected_output_8 else \"Fail\")\n",
    "print(\"Test Case 9:\", \"Pass\" if output_9 == expected_output_9 else \"Fail\")\n"
   ]
  },
  {
   "cell_type": "code",
   "execution_count": null,
   "id": "935236c1",
   "metadata": {},
   "outputs": [],
   "source": []
  }
 ],
 "metadata": {
  "kernelspec": {
   "display_name": "Python 3 (ipykernel)",
   "language": "python",
   "name": "python3"
  },
  "language_info": {
   "codemirror_mode": {
    "name": "ipython",
    "version": 3
   },
   "file_extension": ".py",
   "mimetype": "text/x-python",
   "name": "python",
   "nbconvert_exporter": "python",
   "pygments_lexer": "ipython3",
   "version": "3.10.9"
  }
 },
 "nbformat": 4,
 "nbformat_minor": 5
}
