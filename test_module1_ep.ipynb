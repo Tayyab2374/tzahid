{
 "cells": [
  {
   "cell_type": "code",
   "execution_count": 7,
   "id": "13dd64b8",
   "metadata": {},
   "outputs": [
    {
     "name": "stdout",
     "output_type": "stream",
     "text": [
      "Test Case 1: Pass\n",
      "Test Case 2: Pass\n",
      "Test Case 3: Pass\n",
      "Test Case 4: Fail\n",
      "Test Case 5: Pass\n"
     ]
    }
   ],
   "source": [
    "from Identifying_Regular_Polygons import find_polygon_shape\n",
    "\n",
    "# Test Case 1: Valid sides (3)\n",
    "input_sides_1 = 3\n",
    "expected_output_1 = \"Triangle\"\n",
    "output_1 = find_polygon_shape(input_sides_1)\n",
    "assert output_1 == expected_output_1\n",
    "\n",
    "# Test Case 2: Valid sides (5)\n",
    "input_sides_2 = 5\n",
    "expected_output_2 = \"Pentagon\"\n",
    "output_2 = find_polygon_shape(input_sides_2)\n",
    "assert output_2 == expected_output_2\n",
    "\n",
    "# Test Case 3: Valid sides (7)\n",
    "input_sides_3 = 7\n",
    "expected_output_3 = \"Heptagon\"\n",
    "output_3 = find_polygon_shape(input_sides_3)\n",
    "assert output_3 == expected_output_3\n",
    "\n",
    "\n",
    "# Test Case 5: Invalid sides (10)\n",
    "input_sides_5 = 10\n",
    "expected_output_5 = \"Number is too big\"\n",
    "output_5 = find_polygon_shape(input_sides_5)\n",
    "assert output_5 == expected_output_5\n",
    "\n",
    "# Print test results\n",
    "print(\"Test Case 1:\", \"Pass\" if output_1 == expected_output_1 else \"Fail\")\n",
    "print(\"Test Case 2:\", \"Pass\" if output_2 == expected_output_2 else \"Fail\")\n",
    "print(\"Test Case 3:\", \"Pass\" if output_3 == expected_output_3 else \"Fail\")\n",
    "print(\"Test Case 4:\", \"Pass\" if output_4 == expected_output_4 else \"Fail\")\n",
    "print(\"Test Case 5:\", \"Pass\" if output_5 == expected_output_5 else \"Fail\")\n"
   ]
  },
  {
   "cell_type": "code",
   "execution_count": null,
   "id": "6e508e2e",
   "metadata": {},
   "outputs": [],
   "source": []
  }
 ],
 "metadata": {
  "kernelspec": {
   "display_name": "Python 3 (ipykernel)",
   "language": "python",
   "name": "python3"
  },
  "language_info": {
   "codemirror_mode": {
    "name": "ipython",
    "version": 3
   },
   "file_extension": ".py",
   "mimetype": "text/x-python",
   "name": "python",
   "nbconvert_exporter": "python",
   "pygments_lexer": "ipython3",
   "version": "3.10.9"
  }
 },
 "nbformat": 4,
 "nbformat_minor": 5
}
