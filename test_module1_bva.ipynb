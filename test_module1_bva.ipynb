{
 "cells": [
  {
   "cell_type": "code",
   "execution_count": 2,
   "id": "4b54992e",
   "metadata": {},
   "outputs": [
    {
     "name": "stdout",
     "output_type": "stream",
     "text": [
      "Test Case 6 (lower boundary): Pass\n",
      "Test Case 7 (upper boundary): Pass\n"
     ]
    }
   ],
   "source": [
    "from Identifying_Regular_Polygons import find_polygon_shape\n",
    "\n",
    "# Test Case 6 (lower boundary): Valid sides (3)\n",
    "input_sides_6 = 3\n",
    "expected_output_6 = \"Triangle\"\n",
    "output_6 = find_polygon_shape(input_sides_6)\n",
    "assert output_6 == expected_output_6\n",
    "\n",
    "# Test Case 7 (upper boundary): Valid sides (7)\n",
    "input_sides_7 = 7\n",
    "expected_output_7 = \"Heptagon\"\n",
    "output_7 = find_polygon_shape(input_sides_7)\n",
    "assert output_7 == expected_output_7\n",
    "\n",
    "# Print test results\n",
    "print(\"Test Case 6 (lower boundary):\", \"Pass\" if output_6 == expected_output_6 else \"Fail\")\n",
    "print(\"Test Case 7 (upper boundary):\", \"Pass\" if output_7 == expected_output_7 else \"Fail\")\n"
   ]
  },
  {
   "cell_type": "code",
   "execution_count": null,
   "id": "2a68e0d4",
   "metadata": {},
   "outputs": [],
   "source": []
  }
 ],
 "metadata": {
  "kernelspec": {
   "display_name": "Python 3 (ipykernel)",
   "language": "python",
   "name": "python3"
  },
  "language_info": {
   "codemirror_mode": {
    "name": "ipython",
    "version": 3
   },
   "file_extension": ".py",
   "mimetype": "text/x-python",
   "name": "python",
   "nbconvert_exporter": "python",
   "pygments_lexer": "ipython3",
   "version": "3.10.9"
  }
 },
 "nbformat": 4,
 "nbformat_minor": 5
}
